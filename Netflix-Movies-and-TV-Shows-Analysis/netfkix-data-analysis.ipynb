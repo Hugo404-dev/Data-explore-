{
 "cells": [
  {
   "cell_type": "markdown",
   "id": "0ed472a0",
   "metadata": {
    "papermill": {
     "duration": 0.010388,
     "end_time": "2024-05-30T17:29:24.111420",
     "exception": false,
     "start_time": "2024-05-30T17:29:24.101032",
     "status": "completed"
    },
    "tags": []
   },
   "source": [
    "# Netflix Movies and TV Shows Dataset\n",
    "* **show_id**: A unique identifier for each title.\n",
    "* **type**: The category of the title, which is either 'Movie' or 'TV Show'.\n",
    "* **title**: The name of the movie or TV show.\n",
    "* **director**: The director(s) of the movie or TV show. (Contains null values for some entries, especially TV shows where this information might not be applicable.)\n",
    "* **cast**: The list of main actors/actresses in the title. (Some entries might not have this information.)\n",
    "* **country**: The country or countries where the movie or TV show was produced.\n",
    "* **date_added**: The date the title was added to Netflix.\n",
    "* **release_year**: The year the movie or TV show was originally released.\n",
    "* **rating**: The age rating of the title.\n",
    "* **duration**: The duration of the title, in minutes for movies and seasons for TV shows.\n",
    "* **listed_in**: The genres the title falls under.\n",
    "* **description**: A brief summary of the title."
   ]
  },
  {
   "cell_type": "markdown",
   "id": "887f3d11",
   "metadata": {
    "papermill": {
     "duration": 0.009183,
     "end_time": "2024-05-30T17:29:24.130259",
     "exception": false,
     "start_time": "2024-05-30T17:29:24.121076",
     "status": "completed"
    },
    "tags": []
   },
   "source": [
    "# References\n",
    "- https://www.kaggle.com/code/joshuaswords/netflix-data-visualization\n",
    "- https://www.kaggle.com/code/lp2595/netflix-movies-and-tv-shows-eda#Let's-start-EDA!"
   ]
  },
  {
   "cell_type": "code",
   "execution_count": 1,
   "id": "0b102d53",
   "metadata": {
    "_cell_guid": "b1076dfc-b9ad-4769-8c92-a6c4dae69d19",
    "_uuid": "8f2839f25d086af736a60e9eeb907d3b93b6e0e5",
    "execution": {
     "iopub.execute_input": "2024-05-30T17:29:24.151352Z",
     "iopub.status.busy": "2024-05-30T17:29:24.150628Z",
     "iopub.status.idle": "2024-05-30T17:29:26.259100Z",
     "shell.execute_reply": "2024-05-30T17:29:26.257932Z"
    },
    "papermill": {
     "duration": 2.121852,
     "end_time": "2024-05-30T17:29:26.261621",
     "exception": false,
     "start_time": "2024-05-30T17:29:24.139769",
     "status": "completed"
    },
    "tags": []
   },
   "outputs": [],
   "source": [
    "import warnings\n",
    "warnings.simplefilter(action='ignore', category=FutureWarning)\n",
    "import pandas as pd\n",
    "import numpy as np\n",
    "import matplotlib.pyplot as plt\n",
    "import seaborn as sns"
   ]
  },
  {
   "cell_type": "code",
   "execution_count": 2,
   "id": "84aaa18e",
   "metadata": {
    "execution": {
     "iopub.execute_input": "2024-05-30T17:29:26.283900Z",
     "iopub.status.busy": "2024-05-30T17:29:26.283407Z",
     "iopub.status.idle": "2024-05-30T17:29:26.424316Z",
     "shell.execute_reply": "2024-05-30T17:29:26.423254Z"
    },
    "papermill": {
     "duration": 0.155322,
     "end_time": "2024-05-30T17:29:26.426935",
     "exception": false,
     "start_time": "2024-05-30T17:29:26.271613",
     "status": "completed"
    },
    "tags": []
   },
   "outputs": [],
   "source": [
    "df = pd.read_csv('/kaggle/input/netflix-movies-and-tv-shows/netflix_titles.csv', encoding='latin1')"
   ]
  },
  {
   "cell_type": "code",
   "execution_count": 3,
   "id": "a24d1752",
   "metadata": {
    "execution": {
     "iopub.execute_input": "2024-05-30T17:29:26.448834Z",
     "iopub.status.busy": "2024-05-30T17:29:26.448476Z",
     "iopub.status.idle": "2024-05-30T17:29:26.486301Z",
     "shell.execute_reply": "2024-05-30T17:29:26.485256Z"
    },
    "papermill": {
     "duration": 0.051558,
     "end_time": "2024-05-30T17:29:26.488599",
     "exception": false,
     "start_time": "2024-05-30T17:29:26.437041",
     "status": "completed"
    },
    "tags": []
   },
   "outputs": [
    {
     "data": {
      "text/html": [
       "<div>\n",
       "<style scoped>\n",
       "    .dataframe tbody tr th:only-of-type {\n",
       "        vertical-align: middle;\n",
       "    }\n",
       "\n",
       "    .dataframe tbody tr th {\n",
       "        vertical-align: top;\n",
       "    }\n",
       "\n",
       "    .dataframe thead th {\n",
       "        text-align: right;\n",
       "    }\n",
       "</style>\n",
       "<table border=\"1\" class=\"dataframe\">\n",
       "  <thead>\n",
       "    <tr style=\"text-align: right;\">\n",
       "      <th></th>\n",
       "      <th>show_id</th>\n",
       "      <th>type</th>\n",
       "      <th>title</th>\n",
       "      <th>director</th>\n",
       "      <th>cast</th>\n",
       "      <th>country</th>\n",
       "      <th>date_added</th>\n",
       "      <th>release_year</th>\n",
       "      <th>rating</th>\n",
       "      <th>duration</th>\n",
       "      <th>...</th>\n",
       "      <th>Unnamed: 16</th>\n",
       "      <th>Unnamed: 17</th>\n",
       "      <th>Unnamed: 18</th>\n",
       "      <th>Unnamed: 19</th>\n",
       "      <th>Unnamed: 20</th>\n",
       "      <th>Unnamed: 21</th>\n",
       "      <th>Unnamed: 22</th>\n",
       "      <th>Unnamed: 23</th>\n",
       "      <th>Unnamed: 24</th>\n",
       "      <th>Unnamed: 25</th>\n",
       "    </tr>\n",
       "  </thead>\n",
       "  <tbody>\n",
       "    <tr>\n",
       "      <th>0</th>\n",
       "      <td>s1</td>\n",
       "      <td>Movie</td>\n",
       "      <td>Dick Johnson Is Dead</td>\n",
       "      <td>Kirsten Johnson</td>\n",
       "      <td>NaN</td>\n",
       "      <td>United States</td>\n",
       "      <td>September 25, 2021</td>\n",
       "      <td>2020</td>\n",
       "      <td>PG-13</td>\n",
       "      <td>90 min</td>\n",
       "      <td>...</td>\n",
       "      <td>NaN</td>\n",
       "      <td>NaN</td>\n",
       "      <td>NaN</td>\n",
       "      <td>NaN</td>\n",
       "      <td>NaN</td>\n",
       "      <td>NaN</td>\n",
       "      <td>NaN</td>\n",
       "      <td>NaN</td>\n",
       "      <td>NaN</td>\n",
       "      <td>NaN</td>\n",
       "    </tr>\n",
       "    <tr>\n",
       "      <th>1</th>\n",
       "      <td>s2</td>\n",
       "      <td>TV Show</td>\n",
       "      <td>Blood &amp; Water</td>\n",
       "      <td>NaN</td>\n",
       "      <td>Ama Qamata, Khosi Ngema, Gail Mabalane, Thaban...</td>\n",
       "      <td>South Africa</td>\n",
       "      <td>September 24, 2021</td>\n",
       "      <td>2021</td>\n",
       "      <td>TV-MA</td>\n",
       "      <td>2 Seasons</td>\n",
       "      <td>...</td>\n",
       "      <td>NaN</td>\n",
       "      <td>NaN</td>\n",
       "      <td>NaN</td>\n",
       "      <td>NaN</td>\n",
       "      <td>NaN</td>\n",
       "      <td>NaN</td>\n",
       "      <td>NaN</td>\n",
       "      <td>NaN</td>\n",
       "      <td>NaN</td>\n",
       "      <td>NaN</td>\n",
       "    </tr>\n",
       "    <tr>\n",
       "      <th>2</th>\n",
       "      <td>s3</td>\n",
       "      <td>TV Show</td>\n",
       "      <td>Ganglands</td>\n",
       "      <td>Julien Leclercq</td>\n",
       "      <td>Sami Bouajila, Tracy Gotoas, Samuel Jouy, Nabi...</td>\n",
       "      <td>NaN</td>\n",
       "      <td>September 24, 2021</td>\n",
       "      <td>2021</td>\n",
       "      <td>TV-MA</td>\n",
       "      <td>1 Season</td>\n",
       "      <td>...</td>\n",
       "      <td>NaN</td>\n",
       "      <td>NaN</td>\n",
       "      <td>NaN</td>\n",
       "      <td>NaN</td>\n",
       "      <td>NaN</td>\n",
       "      <td>NaN</td>\n",
       "      <td>NaN</td>\n",
       "      <td>NaN</td>\n",
       "      <td>NaN</td>\n",
       "      <td>NaN</td>\n",
       "    </tr>\n",
       "    <tr>\n",
       "      <th>3</th>\n",
       "      <td>s4</td>\n",
       "      <td>TV Show</td>\n",
       "      <td>Jailbirds New Orleans</td>\n",
       "      <td>NaN</td>\n",
       "      <td>NaN</td>\n",
       "      <td>NaN</td>\n",
       "      <td>September 24, 2021</td>\n",
       "      <td>2021</td>\n",
       "      <td>TV-MA</td>\n",
       "      <td>1 Season</td>\n",
       "      <td>...</td>\n",
       "      <td>NaN</td>\n",
       "      <td>NaN</td>\n",
       "      <td>NaN</td>\n",
       "      <td>NaN</td>\n",
       "      <td>NaN</td>\n",
       "      <td>NaN</td>\n",
       "      <td>NaN</td>\n",
       "      <td>NaN</td>\n",
       "      <td>NaN</td>\n",
       "      <td>NaN</td>\n",
       "    </tr>\n",
       "    <tr>\n",
       "      <th>4</th>\n",
       "      <td>s5</td>\n",
       "      <td>TV Show</td>\n",
       "      <td>Kota Factory</td>\n",
       "      <td>NaN</td>\n",
       "      <td>Mayur More, Jitendra Kumar, Ranjan Raj, Alam K...</td>\n",
       "      <td>India</td>\n",
       "      <td>September 24, 2021</td>\n",
       "      <td>2021</td>\n",
       "      <td>TV-MA</td>\n",
       "      <td>2 Seasons</td>\n",
       "      <td>...</td>\n",
       "      <td>NaN</td>\n",
       "      <td>NaN</td>\n",
       "      <td>NaN</td>\n",
       "      <td>NaN</td>\n",
       "      <td>NaN</td>\n",
       "      <td>NaN</td>\n",
       "      <td>NaN</td>\n",
       "      <td>NaN</td>\n",
       "      <td>NaN</td>\n",
       "      <td>NaN</td>\n",
       "    </tr>\n",
       "  </tbody>\n",
       "</table>\n",
       "<p>5 rows × 26 columns</p>\n",
       "</div>"
      ],
      "text/plain": [
       "  show_id     type                  title         director  \\\n",
       "0      s1    Movie   Dick Johnson Is Dead  Kirsten Johnson   \n",
       "1      s2  TV Show          Blood & Water              NaN   \n",
       "2      s3  TV Show              Ganglands  Julien Leclercq   \n",
       "3      s4  TV Show  Jailbirds New Orleans              NaN   \n",
       "4      s5  TV Show           Kota Factory              NaN   \n",
       "\n",
       "                                                cast        country  \\\n",
       "0                                                NaN  United States   \n",
       "1  Ama Qamata, Khosi Ngema, Gail Mabalane, Thaban...   South Africa   \n",
       "2  Sami Bouajila, Tracy Gotoas, Samuel Jouy, Nabi...            NaN   \n",
       "3                                                NaN            NaN   \n",
       "4  Mayur More, Jitendra Kumar, Ranjan Raj, Alam K...          India   \n",
       "\n",
       "           date_added  release_year rating   duration  ... Unnamed: 16  \\\n",
       "0  September 25, 2021          2020  PG-13     90 min  ...         NaN   \n",
       "1  September 24, 2021          2021  TV-MA  2 Seasons  ...         NaN   \n",
       "2  September 24, 2021          2021  TV-MA   1 Season  ...         NaN   \n",
       "3  September 24, 2021          2021  TV-MA   1 Season  ...         NaN   \n",
       "4  September 24, 2021          2021  TV-MA  2 Seasons  ...         NaN   \n",
       "\n",
       "  Unnamed: 17  Unnamed: 18  Unnamed: 19  Unnamed: 20  Unnamed: 21  \\\n",
       "0         NaN          NaN          NaN          NaN          NaN   \n",
       "1         NaN          NaN          NaN          NaN          NaN   \n",
       "2         NaN          NaN          NaN          NaN          NaN   \n",
       "3         NaN          NaN          NaN          NaN          NaN   \n",
       "4         NaN          NaN          NaN          NaN          NaN   \n",
       "\n",
       "   Unnamed: 22  Unnamed: 23  Unnamed: 24  Unnamed: 25  \n",
       "0          NaN          NaN          NaN          NaN  \n",
       "1          NaN          NaN          NaN          NaN  \n",
       "2          NaN          NaN          NaN          NaN  \n",
       "3          NaN          NaN          NaN          NaN  \n",
       "4          NaN          NaN          NaN          NaN  \n",
       "\n",
       "[5 rows x 26 columns]"
      ]
     },
     "execution_count": 3,
     "metadata": {},
     "output_type": "execute_result"
    }
   ],
   "source": [
    "df.head()"
   ]
  },
  {
   "cell_type": "markdown",
   "id": "11b777a6",
   "metadata": {
    "papermill": {
     "duration": 0.010025,
     "end_time": "2024-05-30T17:29:26.508627",
     "exception": false,
     "start_time": "2024-05-30T17:29:26.498602",
     "status": "completed"
    },
    "tags": []
   },
   "source": [
    "# Data Cleaning"
   ]
  },
  {
   "cell_type": "code",
   "execution_count": 4,
   "id": "a0029537",
   "metadata": {
    "execution": {
     "iopub.execute_input": "2024-05-30T17:29:26.530446Z",
     "iopub.status.busy": "2024-05-30T17:29:26.530057Z",
     "iopub.status.idle": "2024-05-30T17:29:26.536969Z",
     "shell.execute_reply": "2024-05-30T17:29:26.535901Z"
    },
    "papermill": {
     "duration": 0.020657,
     "end_time": "2024-05-30T17:29:26.539285",
     "exception": false,
     "start_time": "2024-05-30T17:29:26.518628",
     "status": "completed"
    },
    "tags": []
   },
   "outputs": [
    {
     "data": {
      "text/plain": [
       "Index(['show_id', 'type', 'title', 'director', 'cast', 'country', 'date_added',\n",
       "       'release_year', 'rating', 'duration', 'listed_in', 'description',\n",
       "       'Unnamed: 12', 'Unnamed: 13', 'Unnamed: 14', 'Unnamed: 15',\n",
       "       'Unnamed: 16', 'Unnamed: 17', 'Unnamed: 18', 'Unnamed: 19',\n",
       "       'Unnamed: 20', 'Unnamed: 21', 'Unnamed: 22', 'Unnamed: 23',\n",
       "       'Unnamed: 24', 'Unnamed: 25'],\n",
       "      dtype='object')"
      ]
     },
     "execution_count": 4,
     "metadata": {},
     "output_type": "execute_result"
    }
   ],
   "source": [
    "df.columns"
   ]
  },
  {
   "cell_type": "markdown",
   "id": "f3df8fd5",
   "metadata": {
    "papermill": {
     "duration": 0.00997,
     "end_time": "2024-05-30T17:29:26.559310",
     "exception": false,
     "start_time": "2024-05-30T17:29:26.549340",
     "status": "completed"
    },
    "tags": []
   },
   "source": [
    "Filter out any columns with 'Unnamed' in their names, retaining only the first 12 relevant columns. "
   ]
  },
  {
   "cell_type": "code",
   "execution_count": 5,
   "id": "e4461541",
   "metadata": {
    "execution": {
     "iopub.execute_input": "2024-05-30T17:29:26.580982Z",
     "iopub.status.busy": "2024-05-30T17:29:26.580633Z",
     "iopub.status.idle": "2024-05-30T17:29:26.607637Z",
     "shell.execute_reply": "2024-05-30T17:29:26.606347Z"
    },
    "papermill": {
     "duration": 0.040944,
     "end_time": "2024-05-30T17:29:26.610172",
     "exception": false,
     "start_time": "2024-05-30T17:29:26.569228",
     "status": "completed"
    },
    "tags": []
   },
   "outputs": [
    {
     "name": "stdout",
     "output_type": "stream",
     "text": [
      "<class 'pandas.core.frame.DataFrame'>\n",
      "RangeIndex: 8809 entries, 0 to 8808\n",
      "Data columns (total 12 columns):\n",
      " #   Column        Non-Null Count  Dtype \n",
      "---  ------        --------------  ----- \n",
      " 0   show_id       8809 non-null   object\n",
      " 1   type          8809 non-null   object\n",
      " 2   title         8809 non-null   object\n",
      " 3   director      6175 non-null   object\n",
      " 4   cast          7984 non-null   object\n",
      " 5   country       7978 non-null   object\n",
      " 6   date_added    8799 non-null   object\n",
      " 7   release_year  8809 non-null   int64 \n",
      " 8   rating        8805 non-null   object\n",
      " 9   duration      8806 non-null   object\n",
      " 10  listed_in     8809 non-null   object\n",
      " 11  description   8809 non-null   object\n",
      "dtypes: int64(1), object(11)\n",
      "memory usage: 826.0+ KB\n"
     ]
    }
   ],
   "source": [
    "df = df[df.columns[:12]]\n",
    "\n",
    "df.info()"
   ]
  },
  {
   "cell_type": "code",
   "execution_count": 6,
   "id": "e0c9082f",
   "metadata": {
    "execution": {
     "iopub.execute_input": "2024-05-30T17:29:26.632377Z",
     "iopub.status.busy": "2024-05-30T17:29:26.631674Z",
     "iopub.status.idle": "2024-05-30T17:29:26.646625Z",
     "shell.execute_reply": "2024-05-30T17:29:26.645533Z"
    },
    "papermill": {
     "duration": 0.028469,
     "end_time": "2024-05-30T17:29:26.648697",
     "exception": false,
     "start_time": "2024-05-30T17:29:26.620228",
     "status": "completed"
    },
    "tags": []
   },
   "outputs": [
    {
     "data": {
      "text/plain": [
       "show_id          0.0\n",
       "type             0.0\n",
       "title            0.0\n",
       "director        29.9\n",
       "cast             9.4\n",
       "country          9.4\n",
       "date_added       0.1\n",
       "release_year     0.0\n",
       "rating           0.0\n",
       "duration         0.0\n",
       "listed_in        0.0\n",
       "description      0.0\n",
       "dtype: float64"
      ]
     },
     "execution_count": 6,
     "metadata": {},
     "output_type": "execute_result"
    }
   ],
   "source": [
    "# Check missing values\n",
    "\n",
    "(df.isna().mean() * 100).round(1)"
   ]
  },
  {
   "cell_type": "markdown",
   "id": "b5e52fa6",
   "metadata": {
    "papermill": {
     "duration": 0.009915,
     "end_time": "2024-05-30T17:29:26.668731",
     "exception": false,
     "start_time": "2024-05-30T17:29:26.658816",
     "status": "completed"
    },
    "tags": []
   },
   "source": [
    "To handle missing data in our dataset, we will apply the following strategies:\n",
    "- Replace missing values in the 'director' and 'cast' columns with the string 'No Data'.\n",
    "- Replace missing values in the 'country' column with the most common country (mode).\n",
    "- Drop rows with missing values in the 'date_added' column, as they constitute less than 0.1% of the data."
   ]
  },
  {
   "cell_type": "code",
   "execution_count": 7,
   "id": "dd429f4f",
   "metadata": {
    "execution": {
     "iopub.execute_input": "2024-05-30T17:29:26.690742Z",
     "iopub.status.busy": "2024-05-30T17:29:26.690371Z",
     "iopub.status.idle": "2024-05-30T17:29:26.711852Z",
     "shell.execute_reply": "2024-05-30T17:29:26.710847Z"
    },
    "papermill": {
     "duration": 0.035691,
     "end_time": "2024-05-30T17:29:26.714424",
     "exception": false,
     "start_time": "2024-05-30T17:29:26.678733",
     "status": "completed"
    },
    "tags": []
   },
   "outputs": [],
   "source": [
    "df[['director', 'cast']] = df[['director', 'cast']].fillna('No Data')\n",
    "\n",
    "df['country'] = df['country'].fillna(df['country'].mode()[0])\n",
    "\n",
    "df.dropna(inplace=True)"
   ]
  },
  {
   "cell_type": "code",
   "execution_count": 8,
   "id": "a83dc693",
   "metadata": {
    "execution": {
     "iopub.execute_input": "2024-05-30T17:29:26.736742Z",
     "iopub.status.busy": "2024-05-30T17:29:26.736352Z",
     "iopub.status.idle": "2024-05-30T17:29:26.762454Z",
     "shell.execute_reply": "2024-05-30T17:29:26.761194Z"
    },
    "papermill": {
     "duration": 0.040182,
     "end_time": "2024-05-30T17:29:26.764821",
     "exception": false,
     "start_time": "2024-05-30T17:29:26.724639",
     "status": "completed"
    },
    "tags": []
   },
   "outputs": [
    {
     "name": "stdout",
     "output_type": "stream",
     "text": [
      "Amount of duplicates: 0\n"
     ]
    }
   ],
   "source": [
    "# Check for duplicates\n",
    "print(f'Amount of duplicates: {df.duplicated().sum()}')"
   ]
  },
  {
   "cell_type": "code",
   "execution_count": 9,
   "id": "3cc72bb1",
   "metadata": {
    "execution": {
     "iopub.execute_input": "2024-05-30T17:29:26.786988Z",
     "iopub.status.busy": "2024-05-30T17:29:26.786572Z",
     "iopub.status.idle": "2024-05-30T17:29:26.800901Z",
     "shell.execute_reply": "2024-05-30T17:29:26.799690Z"
    },
    "papermill": {
     "duration": 0.028003,
     "end_time": "2024-05-30T17:29:26.803141",
     "exception": false,
     "start_time": "2024-05-30T17:29:26.775138",
     "status": "completed"
    },
    "tags": []
   },
   "outputs": [
    {
     "data": {
      "text/plain": [
       "show_id         0\n",
       "type            0\n",
       "title           0\n",
       "director        0\n",
       "cast            0\n",
       "country         0\n",
       "date_added      0\n",
       "release_year    0\n",
       "rating          0\n",
       "duration        0\n",
       "listed_in       0\n",
       "description     0\n",
       "dtype: int64"
      ]
     },
     "execution_count": 9,
     "metadata": {},
     "output_type": "execute_result"
    }
   ],
   "source": [
    "df.isnull().sum()"
   ]
  },
  {
   "cell_type": "code",
   "execution_count": 10,
   "id": "cd8aa224",
   "metadata": {
    "execution": {
     "iopub.execute_input": "2024-05-30T17:29:26.825741Z",
     "iopub.status.busy": "2024-05-30T17:29:26.825336Z",
     "iopub.status.idle": "2024-05-30T17:29:26.842174Z",
     "shell.execute_reply": "2024-05-30T17:29:26.841231Z"
    },
    "papermill": {
     "duration": 0.030795,
     "end_time": "2024-05-30T17:29:26.844510",
     "exception": false,
     "start_time": "2024-05-30T17:29:26.813715",
     "status": "completed"
    },
    "tags": []
   },
   "outputs": [
    {
     "name": "stdout",
     "output_type": "stream",
     "text": [
      "<class 'pandas.core.frame.DataFrame'>\n",
      "Index: 8792 entries, 0 to 8808\n",
      "Data columns (total 12 columns):\n",
      " #   Column        Non-Null Count  Dtype \n",
      "---  ------        --------------  ----- \n",
      " 0   show_id       8792 non-null   object\n",
      " 1   type          8792 non-null   object\n",
      " 2   title         8792 non-null   object\n",
      " 3   director      8792 non-null   object\n",
      " 4   cast          8792 non-null   object\n",
      " 5   country       8792 non-null   object\n",
      " 6   date_added    8792 non-null   object\n",
      " 7   release_year  8792 non-null   int64 \n",
      " 8   rating        8792 non-null   object\n",
      " 9   duration      8792 non-null   object\n",
      " 10  listed_in     8792 non-null   object\n",
      " 11  description   8792 non-null   object\n",
      "dtypes: int64(1), object(11)\n",
      "memory usage: 892.9+ KB\n"
     ]
    }
   ],
   "source": [
    "df.info()"
   ]
  },
  {
   "cell_type": "markdown",
   "id": "f21d5dd0",
   "metadata": {
    "papermill": {
     "duration": 0.010037,
     "end_time": "2024-05-30T17:29:26.864878",
     "exception": false,
     "start_time": "2024-05-30T17:29:26.854841",
     "status": "completed"
    },
    "tags": []
   },
   "source": [
    "Convert the 'date_added' column from an object to a datetime format for better manipulation and analysis."
   ]
  },
  {
   "cell_type": "code",
   "execution_count": 11,
   "id": "9cb9aad9",
   "metadata": {
    "execution": {
     "iopub.execute_input": "2024-05-30T17:29:26.887527Z",
     "iopub.status.busy": "2024-05-30T17:29:26.887153Z",
     "iopub.status.idle": "2024-05-30T17:29:27.067142Z",
     "shell.execute_reply": "2024-05-30T17:29:27.066061Z"
    },
    "papermill": {
     "duration": 0.194501,
     "end_time": "2024-05-30T17:29:27.069756",
     "exception": false,
     "start_time": "2024-05-30T17:29:26.875255",
     "status": "completed"
    },
    "tags": []
   },
   "outputs": [],
   "source": [
    "# Convert date from object to datetime\n",
    "df[\"date_added\"] = pd.to_datetime(df['date_added'], format='mixed')\n",
    "\n",
    "# Extract month and year\n",
    "df['month_added']=df['date_added'].dt.month_name()\n",
    "df['year_added'] = df['date_added'].dt.year"
   ]
  },
  {
   "cell_type": "markdown",
   "id": "f3b33d29",
   "metadata": {
    "papermill": {
     "duration": 0.010405,
     "end_time": "2024-05-30T17:29:27.090694",
     "exception": false,
     "start_time": "2024-05-30T17:29:27.080289",
     "status": "completed"
    },
    "tags": []
   },
   "source": [
    "# Visualizations"
   ]
  },
  {
   "cell_type": "code",
   "execution_count": 12,
   "id": "251b022c",
   "metadata": {
    "execution": {
     "iopub.execute_input": "2024-05-30T17:29:27.113680Z",
     "iopub.status.busy": "2024-05-30T17:29:27.113260Z",
     "iopub.status.idle": "2024-05-30T17:29:27.118016Z",
     "shell.execute_reply": "2024-05-30T17:29:27.116991Z"
    },
    "papermill": {
     "duration": 0.018931,
     "end_time": "2024-05-30T17:29:27.120095",
     "exception": false,
     "start_time": "2024-05-30T17:29:27.101164",
     "status": "completed"
    },
    "tags": []
   },
   "outputs": [],
   "source": [
    "netflix_palette = ['#221f1f', '#b20710', '#e50914', '#f5f5f1']"
   ]
  },
  {
   "cell_type": "code",
   "execution_count": 13,
   "id": "325c28fe",
   "metadata": {
    "execution": {
     "iopub.execute_input": "2024-05-30T17:29:27.142856Z",
     "iopub.status.busy": "2024-05-30T17:29:27.142488Z",
     "iopub.status.idle": "2024-05-30T17:29:27.293982Z",
     "shell.execute_reply": "2024-05-30T17:29:27.292732Z"
    },
    "papermill": {
     "duration": 0.166442,
     "end_time": "2024-05-30T17:29:27.296998",
     "exception": false,
     "start_time": "2024-05-30T17:29:27.130556",
     "status": "completed"
    },
    "tags": []
   },
   "outputs": [
    {
     "data": {
      "image/png": "[encoded data removed]",
      "text/plain": [
       "<Figure size 800x200 with 1 Axes>"
      ]
     },
     "metadata": {},
     "output_type": "display_data"
    }
   ],
   "source": [
    "fig, ax = plt.subplots(figsize=(8, 2))\n",
    "\n",
    "# Remove axis ticks and labels\n",
    "ax.axis('off')\n",
    "\n",
    "# Plot blocks of colors\n",
    "for i, color in enumerate(netflix_palette):\n",
    "    ax.barh(i, 1, color=color)\n",
    "\n",
    "plt.title('Netflix Color Palette', fontsize=12, fontweight='bold')\n",
    "plt.show()"
   ]
  },
  {
   "cell_type": "code",
   "execution_count": 14,
   "id": "700cd679",
   "metadata": {
    "execution": {
     "iopub.execute_input": "2024-05-30T17:29:27.322339Z",
     "iopub.status.busy": "2024-05-30T17:29:27.321735Z",
     "iopub.status.idle": "2024-05-30T17:29:27.327957Z",
     "shell.execute_reply": "2024-05-30T17:29:27.327137Z"
    },
    "papermill": {
     "duration": 0.020289,
     "end_time": "2024-05-30T17:29:27.330027",
     "exception": false,
     "start_time": "2024-05-30T17:29:27.309738",
     "status": "completed"
    },
    "tags": []
   },
   "outputs": [],
   "source": [
    "# Count of Movies and Tv Shows\n",
    "type_counts = df['type'].value_counts()\n",
    "\n",
    "# Calculate proportion\n",
    "total_counts = type_counts.sum()\n",
    "type_percentages = (type_counts / total_counts) * 100"
   ]
  },
  {
   "cell_type": "code",
   "execution_count": 15,
   "id": "d3c4c7e0",
   "metadata": {
    "execution": {
     "iopub.execute_input": "2024-05-30T17:29:27.353545Z",
     "iopub.status.busy": "2024-05-30T17:29:27.352811Z",
     "iopub.status.idle": "2024-05-30T17:29:27.541165Z",
     "shell.execute_reply": "2024-05-30T17:29:27.539969Z"
    },
    "papermill": {
     "duration": 0.203465,
     "end_time": "2024-05-30T17:29:27.544204",
     "exception": false,
     "start_time": "2024-05-30T17:29:27.340739",
     "status": "completed"
    },
    "tags": []
   },
   "outputs": [
    {
     "data": {
      "image/png": "[encoded data removed]",
      "text/plain": [
       "<Figure size 1000x300 with 1 Axes>"
      ]
     },
     "metadata": {},
     "output_type": "display_data"
    },
    {
     "data": {
      "text/html": [
       "<div>\n",
       "<style scoped>\n",
       "    .dataframe tbody tr th:only-of-type {\n",
       "        vertical-align: middle;\n",
       "    }\n",
       "\n",
       "    .dataframe tbody tr th {\n",
       "        vertical-align: top;\n",
       "    }\n",
       "\n",
       "    .dataframe thead th {\n",
       "        text-align: right;\n",
       "    }\n",
       "</style>\n",
       "<table border=\"1\" class=\"dataframe\">\n",
       "  <thead>\n",
       "    <tr style=\"text-align: right;\">\n",
       "      <th></th>\n",
       "      <th>Count</th>\n",
       "      <th>Proportion</th>\n",
       "    </tr>\n",
       "    <tr>\n",
       "      <th>type</th>\n",
       "      <th></th>\n",
       "      <th></th>\n",
       "    </tr>\n",
       "  </thead>\n",
       "  <tbody>\n",
       "    <tr>\n",
       "      <th>Movie</th>\n",
       "      <td>6127</td>\n",
       "      <td>69.7</td>\n",
       "    </tr>\n",
       "    <tr>\n",
       "      <th>TV Show</th>\n",
       "      <td>2665</td>\n",
       "      <td>30.3</td>\n",
       "    </tr>\n",
       "  </tbody>\n",
       "</table>\n",
       "</div>"
      ],
      "text/plain": [
       "         Count  Proportion\n",
       "type                      \n",
       "Movie     6127        69.7\n",
       "TV Show   2665        30.3"
      ]
     },
     "execution_count": 15,
     "metadata": {},
     "output_type": "execute_result"
    }
   ],
   "source": [
    "colors = [netflix_palette[1], netflix_palette[0]]\n",
    "\n",
    "fig, ax = plt.subplots(figsize=(10, 3))  \n",
    "\n",
    "# Create a horizontal bar chart with percentages\n",
    "ax.barh([''], [type_percentages['Movie']], color=colors[0], edgecolor='white', label='Movie')\n",
    "ax.barh([''], [type_percentages['TV Show']], color=colors[1], left=[type_percentages['Movie']], edgecolor='white', label='TV Show')\n",
    "\n",
    "# Add text labels inside the boxes with percentages\n",
    "ax.text(type_percentages['Movie'] / 2, 0, f'Movie\\n{type_percentages[\"Movie\"]:.1f}%', ha='center', va='center', color='white', fontsize=12, fontweight='bold')\n",
    "ax.text(type_percentages['Movie'] + type_percentages['TV Show'] / 2, 0, f'TV Show\\n{type_percentages[\"TV Show\"]:.1f}%', ha='center', va='center', color='white', fontsize=12, fontweight='bold')\n",
    "\n",
    "# Remove y-axis labels and ticks\n",
    "ax.set_yticks([])\n",
    "ax.set_xticks([])\n",
    "ax.set_yticklabels([])\n",
    "ax.set_xticklabels([])\n",
    "\n",
    "# Remove spines\n",
    "for spine in ax.spines.values():\n",
    "    spine.set_visible(False)\n",
    "\n",
    "plt.title('Movie & TV Show distribution', fontsize=16, fontweight='bold')\n",
    "\n",
    "# Display the plot\n",
    "plt.show()\n",
    "\n",
    "type_df = pd.DataFrame({\n",
    "    'Count': type_counts,\n",
    "    'Proportion': type_percentages\n",
    "})\n",
    "\n",
    "type_df['Proportion'] = type_df['Proportion'].round(1)\n",
    "type_df"
   ]
  },
  {
   "cell_type": "code",
   "execution_count": 16,
   "id": "808173d5",
   "metadata": {
    "execution": {
     "iopub.execute_input": "2024-05-30T17:29:27.585667Z",
     "iopub.status.busy": "2024-05-30T17:29:27.584649Z",
     "iopub.status.idle": "2024-05-30T17:29:27.594495Z",
     "shell.execute_reply": "2024-05-30T17:29:27.593160Z"
    },
    "papermill": {
     "duration": 0.034283,
     "end_time": "2024-05-30T17:29:27.597686",
     "exception": false,
     "start_time": "2024-05-30T17:29:27.563403",
     "status": "completed"
    },
    "tags": []
   },
   "outputs": [],
   "source": [
    "# Get the top 10 countries and their counts\n",
    "country_counts = df['country'].value_counts().head(10)\n",
    "\n",
    "# Get the top 3 countries and their counts\n",
    "top_countries = country_counts.index[:3]\n",
    "top_counts = country_counts.values[:3]"
   ]
  },
  {
   "cell_type": "code",
   "execution_count": 17,
   "id": "72a18143",
   "metadata": {
    "execution": {
     "iopub.execute_input": "2024-05-30T17:29:27.625493Z",
     "iopub.status.busy": "2024-05-30T17:29:27.624774Z",
     "iopub.status.idle": "2024-05-30T17:29:27.981463Z",
     "shell.execute_reply": "2024-05-30T17:29:27.980239Z"
    },
    "papermill": {
     "duration": 0.371681,
     "end_time": "2024-05-30T17:29:27.983795",
     "exception": false,
     "start_time": "2024-05-30T17:29:27.612114",
     "status": "completed"
    },
    "tags": []
   },
   "outputs": [
    {
     "data": {
      "image/png": "[encoded data removed]",
      "text/plain": [
       "<Figure size 800x500 with 1 Axes>"
      ]
     },
     "metadata": {},
     "output_type": "display_data"
    }
   ],
   "source": [
    "plt.figure(figsize=(8, 5))  # Adjust figure size as desired\n",
    "\n",
    "# Plot bars for all countries\n",
    "bars = plt.bar(country_counts.index, country_counts.values, color=netflix_palette[3])  # Set all bars to the background color initially\n",
    "\n",
    "# Highlight top 3 countries in red\n",
    "for country, count, bar in zip(top_countries, top_counts, bars):\n",
    "    bar.set_color(netflix_palette[1])  # Set color to red for top 3 countries\n",
    "\n",
    "# Add count values on top of bars\n",
    "for bar, count in zip(bars, country_counts.values):\n",
    "    yval = bar.get_height()\n",
    "    plt.text(bar.get_x() + bar.get_width() / 2, yval + 0.2, count, ha='center', va='bottom')\n",
    "\n",
    "plt.title('Top 10 Countries (Top 3 Highlighted)')\n",
    "plt.xticks(rotation=45, ha='right')\n",
    "plt.tight_layout()\n",
    "\n",
    "plt.show()"
   ]
  },
  {
   "cell_type": "markdown",
   "id": "4f205635",
   "metadata": {
    "papermill": {
     "duration": 0.012416,
     "end_time": "2024-05-30T17:29:28.008575",
     "exception": false,
     "start_time": "2024-05-30T17:29:27.996159",
     "status": "completed"
    },
    "tags": []
   },
   "source": [
    "The USA, being Netflix's home country, has by far the most content available. India follows as the runner-up, though with a significantly smaller library. The UK comes in third place."
   ]
  },
  {
   "cell_type": "code",
   "execution_count": 18,
   "id": "e909c5d5",
   "metadata": {
    "execution": {
     "iopub.execute_input": "2024-05-30T17:29:28.036424Z",
     "iopub.status.busy": "2024-05-30T17:29:28.035993Z",
     "iopub.status.idle": "2024-05-30T17:29:28.059619Z",
     "shell.execute_reply": "2024-05-30T17:29:28.058537Z"
    },
    "papermill": {
     "duration": 0.040901,
     "end_time": "2024-05-30T17:29:28.061993",
     "exception": false,
     "start_time": "2024-05-30T17:29:28.021092",
     "status": "completed"
    },
    "tags": []
   },
   "outputs": [],
   "source": [
    "# Count movies and TV shows per country\n",
    "movie_counts_country = df[df['type'] == 'Movie']['country'].value_counts()\n",
    "tv_show_counts_country = df[df['type']=='TV Show']['country'].value_counts()\n",
    "\n",
    "# Combine counts into a single DataFrame with total (use fillna(0) for missing values)\n",
    "df_counts = pd.DataFrame({\n",
    "    'Movie': movie_counts_country,\n",
    "    'TV Show': tv_show_counts_country,\n",
    "}).fillna(0)\n",
    "\n",
    "df_counts['Total Count'] = df_counts.sum(axis=1)\n",
    "\n",
    "# Sort by total count, and get top 10\n",
    "top_10_counts = df_counts.sort_values(by='Total Count', ascending=False).head(10)\n",
    "\n",
    "# Calculate and add proportions to top 10 counts\n",
    "top_10_counts['Movie_pct'] = top_10_counts['Movie'] / top_10_counts['Total Count'] * 100\n",
    "top_10_counts['TV_Show_pct'] = top_10_counts['TV Show'] / top_10_counts['Total Count'] * 100\n",
    "\n",
    "# Sort again, this time by Movie proportion\n",
    "top_10_counts = top_10_counts.sort_values(by='Movie_pct', ascending=True)"
   ]
  },
  {
   "cell_type": "code",
   "execution_count": 19,
   "id": "f07d9bd4",
   "metadata": {
    "execution": {
     "iopub.execute_input": "2024-05-30T17:29:28.087870Z",
     "iopub.status.busy": "2024-05-30T17:29:28.087498Z",
     "iopub.status.idle": "2024-05-30T17:29:28.482525Z",
     "shell.execute_reply": "2024-05-30T17:29:28.481694Z"
    },
    "papermill": {
     "duration": 0.410937,
     "end_time": "2024-05-30T17:29:28.484832",
     "exception": false,
     "start_time": "2024-05-30T17:29:28.073895",
     "status": "completed"
    },
    "tags": []
   },
   "outputs": [
    {
     "data": {
      "image/png": "[encoded data removed]",
      "text/plain": [
       "<Figure size 1200x600 with 1 Axes>"
      ]
     },
     "metadata": {},
     "output_type": "display_data"
    }
   ],
   "source": [
    "# Data preparation for plotting\n",
    "countries = top_10_counts.index\n",
    "movies_pct = top_10_counts['Movie_pct']\n",
    "tv_shows_pct = top_10_counts['TV_Show_pct']\n",
    "\n",
    "colors = [netflix_palette[1], netflix_palette[0]]\n",
    "\n",
    "fig, ax = plt.subplots(figsize=(12, 6))\n",
    "\n",
    "# Create a horizontal stacked bar chart\n",
    "bar_width = 0.5 \n",
    "for i, country in enumerate(countries):\n",
    "    ax.barh(i, movies_pct[i], color=colors[0], edgecolor='white', height=bar_width, label='Movie' if i == 0 else \"\")\n",
    "    ax.barh(i, tv_shows_pct[i], color=colors[1], edgecolor='white', height=bar_width, left=movies_pct[i], label='TV Show' if i == 0 else \"\")\n",
    "\n",
    "    # Add text labels inside the boxes with percentages\n",
    "    ax.text(movies_pct[i] / 2, i, f'{movies_pct[i]:.1f}%', ha='center', va='center', color='white', fontsize=10, fontweight='bold')\n",
    "    ax.text(movies_pct[i] + tv_shows_pct[i] / 2, i, f'{tv_shows_pct[i]:.1f}%', ha='center', va='center', color='white', fontsize=10, fontweight='bold')\n",
    "\n",
    "# Set y-axis labels to countries\n",
    "ax.set_yticks(range(len(countries)))\n",
    "ax.set_yticklabels(countries)\n",
    "\n",
    "# Remove x-axis labels and ticks\n",
    "ax.set_xticks([])\n",
    "ax.set_xticklabels([])\n",
    "\n",
    "# Remove spines\n",
    "for spine in ax.spines.values():\n",
    "    spine.set_visible(False)\n",
    "\n",
    "# Add legend outside the plot\n",
    "ax.legend(loc='upper left', bbox_to_anchor=(1, 1), fontsize=10)\n",
    "\n",
    "# Set title\n",
    "plt.title('Proportion of Movies & TV Shows by Country (Top 10)', fontsize=16, fontweight='bold')\n",
    "\n",
    "# Adjust layout\n",
    "plt.tight_layout()\n",
    "\n",
    "# Display the plot\n",
    "plt.show()"
   ]
  },
  {
   "cell_type": "markdown",
   "id": "e1505670",
   "metadata": {
    "papermill": {
     "duration": 0.012705,
     "end_time": "2024-05-30T17:29:28.510476",
     "exception": false,
     "start_time": "2024-05-30T17:29:28.497771",
     "status": "completed"
    },
    "tags": []
   },
   "source": [
    "Netflix's content in India and Egypt is predominantly movies. The UK offers the most balanced mix, with 49.3% movies and 50.7% TV shows. In contrast, the majority of Netflix's library in Japan and South Korea consists of TV shows."
   ]
  },
  {
   "cell_type": "code",
   "execution_count": 20,
   "id": "54e74562",
   "metadata": {
    "execution": {
     "iopub.execute_input": "2024-05-30T17:29:28.538413Z",
     "iopub.status.busy": "2024-05-30T17:29:28.537995Z",
     "iopub.status.idle": "2024-05-30T17:29:28.546982Z",
     "shell.execute_reply": "2024-05-30T17:29:28.545958Z"
    },
    "papermill": {
     "duration": 0.025692,
     "end_time": "2024-05-30T17:29:28.549182",
     "exception": false,
     "start_time": "2024-05-30T17:29:28.523490",
     "status": "completed"
    },
    "tags": []
   },
   "outputs": [
    {
     "data": {
      "text/plain": [
       "year_added\n",
       "2019    2016\n",
       "2020    1879\n",
       "2018    1648\n",
       "2021    1498\n",
       "2017    1185\n",
       "2016     426\n",
       "2015      82\n",
       "2014      24\n",
       "2011      13\n",
       "2013      11\n",
       "2012       3\n",
       "2009       2\n",
       "2008       2\n",
       "2024       2\n",
       "2010       1\n",
       "Name: count, dtype: int64"
      ]
     },
     "execution_count": 20,
     "metadata": {},
     "output_type": "execute_result"
    }
   ],
   "source": [
    "df['year_added'].value_counts()"
   ]
  },
  {
   "cell_type": "code",
   "execution_count": 21,
   "id": "55eec8aa",
   "metadata": {
    "execution": {
     "iopub.execute_input": "2024-05-30T17:29:28.577057Z",
     "iopub.status.busy": "2024-05-30T17:29:28.576693Z",
     "iopub.status.idle": "2024-05-30T17:29:28.584946Z",
     "shell.execute_reply": "2024-05-30T17:29:28.583809Z"
    },
    "papermill": {
     "duration": 0.025372,
     "end_time": "2024-05-30T17:29:28.587574",
     "exception": false,
     "start_time": "2024-05-30T17:29:28.562202",
     "status": "completed"
    },
    "tags": []
   },
   "outputs": [],
   "source": [
    "# drop year 2024, as it is probably not complete\n",
    "df = df[df['year_added']!=2024]"
   ]
  },
  {
   "cell_type": "code",
   "execution_count": 22,
   "id": "8811d5f4",
   "metadata": {
    "execution": {
     "iopub.execute_input": "2024-05-30T17:29:28.673859Z",
     "iopub.status.busy": "2024-05-30T17:29:28.673469Z",
     "iopub.status.idle": "2024-05-30T17:29:29.157031Z",
     "shell.execute_reply": "2024-05-30T17:29:29.155825Z"
    },
    "papermill": {
     "duration": 0.500811,
     "end_time": "2024-05-30T17:29:29.159422",
     "exception": false,
     "start_time": "2024-05-30T17:29:28.658611",
     "status": "completed"
    },
    "tags": []
   },
   "outputs": [
    {
     "data": {
      "image/png": "[encoded data removed]",
      "text/plain": [
       "<Figure size 1000x600 with 1 Axes>"
      ]
     },
     "metadata": {},
     "output_type": "display_data"
    }
   ],
   "source": [
    "df_grouped = df.groupby(['year_added', 'type'])['type'].count().unstack(fill_value=0)\n",
    "\n",
    "colors = [netflix_palette[1], netflix_palette[0]]\n",
    "\n",
    "fig, ax = plt.subplots(figsize=(10, 6))\n",
    "df_grouped.plot(kind='area', stacked=False, ax=ax, color=colors)\n",
    "ax.set_title('Movies and TV Shows Added Over Time', fontsize=12, fontweight='bold', fontfamily='serif')\n",
    "ax.set_xlabel('Year Added', fontsize=12, fontweight='bold', fontfamily='serif')\n",
    "ax.set_ylabel('Number of Movies/TV Shows', fontsize=12, fontweight='bold', fontfamily='serif')\n",
    "ax.legend(title='Type', fontsize=10, title_fontsize=12)\n",
    "\n",
    "# Adjust tick labels\n",
    "plt.xticks(df['year_added'].unique(), fontsize=10)\n",
    "plt.yticks(fontsize=8)\n",
    "\n",
    "plt.tight_layout()\n",
    "plt.show()"
   ]
  },
  {
   "cell_type": "markdown",
   "id": "11a0903c",
   "metadata": {
    "papermill": {
     "duration": 0.013578,
     "end_time": "2024-05-30T17:29:29.187623",
     "exception": false,
     "start_time": "2024-05-30T17:29:29.174045",
     "status": "completed"
    },
    "tags": []
   },
   "source": [
    "In 2019, Netflix experienced its peak in global content count. We can see that they focused more on adding movies than TV shows, with movies also increasing much faster. Additionally, content additions appear to have declined in 2020, likely due to the COVID-19 pandemic."
   ]
  },
  {
   "cell_type": "code",
   "execution_count": 23,
   "id": "68d9a51e",
   "metadata": {
    "execution": {
     "iopub.execute_input": "2024-05-30T17:29:29.217663Z",
     "iopub.status.busy": "2024-05-30T17:29:29.217231Z",
     "iopub.status.idle": "2024-05-30T17:29:29.227213Z",
     "shell.execute_reply": "2024-05-30T17:29:29.226147Z"
    },
    "papermill": {
     "duration": 0.027811,
     "end_time": "2024-05-30T17:29:29.229448",
     "exception": false,
     "start_time": "2024-05-30T17:29:29.201637",
     "status": "completed"
    },
    "tags": []
   },
   "outputs": [],
   "source": [
    "monthly_additions = df['month_added'].value_counts().reset_index()\n",
    "\n",
    "# Define months by the right order\n",
    "month_order = ['January', 'February', 'March', 'April', 'May', 'June', 'July', 'August', 'September', 'October', 'November', 'December']\n",
    "\n",
    "# Set 'month_added' as a categorical type with the specified order\n",
    "monthly_additions['month_added'] = pd.Categorical(monthly_additions['month_added'], categories=month_order, ordered=True)\n",
    "\n",
    "# Sort by month added\n",
    "monthly_additions.sort_values('month_added', inplace=True)"
   ]
  },
  {
   "cell_type": "code",
   "execution_count": 24,
   "id": "742c02dd",
   "metadata": {
    "execution": {
     "iopub.execute_input": "2024-05-30T17:29:29.259328Z",
     "iopub.status.busy": "2024-05-30T17:29:29.258911Z",
     "iopub.status.idle": "2024-05-30T17:29:29.710504Z",
     "shell.execute_reply": "2024-05-30T17:29:29.709317Z"
    },
    "papermill": {
     "duration": 0.469558,
     "end_time": "2024-05-30T17:29:29.713062",
     "exception": false,
     "start_time": "2024-05-30T17:29:29.243504",
     "status": "completed"
    },
    "tags": []
   },
   "outputs": [
    {
     "data": {
      "image/png": "[encoded data removed]",
      "text/plain": [
       "<Figure size 1000x600 with 1 Axes>"
      ]
     },
     "metadata": {},
     "output_type": "display_data"
    }
   ],
   "source": [
    "fig, ax = plt.subplots(figsize=(10, 6))\n",
    "\n",
    "# Plot the bar chart\n",
    "bars = ax.bar(monthly_additions['month_added'], monthly_additions['count'], color=netflix_palette[1])\n",
    "\n",
    "# Add count labels on top of each bar\n",
    "for bar in bars:\n",
    "    height = bar.get_height()\n",
    "    ax.annotate('{}'.format(height),\n",
    "                xy=(bar.get_x() + bar.get_width() / 2, height),\n",
    "                xytext=(0, 3),  # 3 points vertical offset\n",
    "                textcoords=\"offset points\",\n",
    "                ha='center', va='bottom', fontsize=10)\n",
    "\n",
    "ax.set_title('Content Additions by Month', fontsize=12, fontweight='bold', fontfamily='serif')\n",
    "ax.set_ylabel('Number of Additions', fontsize=12, fontweight='bold', fontfamily='serif')\n",
    "plt.xticks(rotation=45, fontsize=10)\n",
    "plt.yticks(fontsize=10)\n",
    "\n",
    "plt.tight_layout()\n",
    "plt.show()\n"
   ]
  },
  {
   "cell_type": "markdown",
   "id": "42a7770d",
   "metadata": {
    "papermill": {
     "duration": 0.014513,
     "end_time": "2024-05-30T17:29:29.743259",
     "exception": false,
     "start_time": "2024-05-30T17:29:29.728746",
     "status": "completed"
    },
    "tags": []
   },
   "source": [
    "Overall, content uploads are relatively consistent across the months, with July and December having the highest counts. The high count in December may be due to the holiday season, which could lead to increased viewership and demand for new content. Additionally, February's lower count could be influenced by its shorter duration, potentially resulting in fewer upload opportunities.\n",
    "\n"
   ]
  },
  {
   "cell_type": "markdown",
   "id": "fc95d7dc",
   "metadata": {
    "papermill": {
     "duration": 0.014631,
     "end_time": "2024-05-30T17:29:29.772766",
     "exception": false,
     "start_time": "2024-05-30T17:29:29.758135",
     "status": "completed"
    },
    "tags": []
   },
   "source": [
    "# Testing for Differences in Upload Counts Across Months\n",
    "\n",
    "- **Null Hypothesis (H0)**: The number of uploads does not vary significantly between months.\n",
    "\n",
    "- **Alternative Hypothesis (H1)**: The number of uploads varies significantly between months. (eg: February having the fewest uploads)\n",
    "\n",
    "### Strategy\n",
    "\n",
    "To test these hypotheses, we perform a chi-square goodness-of-fit test. We compare the observed number of uploads each month to the expected number, assuming uploads are evenly distributed based on the number of days in each month."
   ]
  },
  {
   "cell_type": "markdown",
   "id": "dc50e6d3",
   "metadata": {
    "papermill": {
     "duration": 0.01499,
     "end_time": "2024-05-30T17:29:29.802974",
     "exception": false,
     "start_time": "2024-05-30T17:29:29.787984",
     "status": "completed"
    },
    "tags": []
   },
   "source": [
    "### Preparing data"
   ]
  },
  {
   "cell_type": "code",
   "execution_count": 25,
   "id": "9091a3fe",
   "metadata": {
    "execution": {
     "iopub.execute_input": "2024-05-30T17:29:29.834949Z",
     "iopub.status.busy": "2024-05-30T17:29:29.834561Z",
     "iopub.status.idle": "2024-05-30T17:29:29.848805Z",
     "shell.execute_reply": "2024-05-30T17:29:29.847792Z"
    },
    "papermill": {
     "duration": 0.032867,
     "end_time": "2024-05-30T17:29:29.850938",
     "exception": false,
     "start_time": "2024-05-30T17:29:29.818071",
     "status": "completed"
    },
    "tags": []
   },
   "outputs": [],
   "source": [
    "# Rename columns\n",
    "monthly_additions = monthly_additions.rename(columns={'month_added': 'Month', 'count': 'Observed'})\n",
    "\n",
    "days_in_month = {\n",
    "    'January': 31, 'February': 28, 'March': 31, 'April': 30,\n",
    "    'May': 31, 'June': 30, 'July': 31, 'August': 31,\n",
    "    'September': 30, 'October': 31, 'November': 30, 'December': 31\n",
    "}\n",
    "total_days = 365\n",
    "\n",
    "# Calculate expected proportion\n",
    "expected_proportions = {month: days / total_days for month, days in days_in_month.items()}\n",
    "\n",
    "# Make a df out of days_in_month dictionary\n",
    "days_df = pd.DataFrame(list(days_in_month.items()), columns=['Month', 'Days'])\n",
    "\n",
    "# Merge with monthly_additions\n",
    "monthly_additions = pd.merge(monthly_additions, days_df, on='Month')"
   ]
  },
  {
   "cell_type": "code",
   "execution_count": 26,
   "id": "763a046f",
   "metadata": {
    "execution": {
     "iopub.execute_input": "2024-05-30T17:29:29.883207Z",
     "iopub.status.busy": "2024-05-30T17:29:29.882819Z",
     "iopub.status.idle": "2024-05-30T17:29:29.893565Z",
     "shell.execute_reply": "2024-05-30T17:29:29.892364Z"
    },
    "papermill": {
     "duration": 0.029479,
     "end_time": "2024-05-30T17:29:29.895728",
     "exception": false,
     "start_time": "2024-05-30T17:29:29.866249",
     "status": "completed"
    },
    "tags": []
   },
   "outputs": [],
   "source": [
    "# Merge the expected proportions data\n",
    "expected_props_df = pd.DataFrame(list(expected_proportions.items()), columns=['Month', 'Expected Proportion'])\n",
    "monthly_additions = pd.merge(monthly_additions, expected_props_df, on='Month')"
   ]
  },
  {
   "cell_type": "code",
   "execution_count": 27,
   "id": "7cfb557e",
   "metadata": {
    "execution": {
     "iopub.execute_input": "2024-05-30T17:29:29.928683Z",
     "iopub.status.busy": "2024-05-30T17:29:29.928314Z",
     "iopub.status.idle": "2024-05-30T17:29:29.938215Z",
     "shell.execute_reply": "2024-05-30T17:29:29.937297Z"
    },
    "papermill": {
     "duration": 0.028717,
     "end_time": "2024-05-30T17:29:29.940287",
     "exception": false,
     "start_time": "2024-05-30T17:29:29.911570",
     "status": "completed"
    },
    "tags": []
   },
   "outputs": [],
   "source": [
    "# Calculate observed proportion\n",
    "total_observed_counts = monthly_additions['Observed'].sum()\n",
    "monthly_additions['Observed Proportion'] = monthly_additions['Observed'] / total_observed_counts\n",
    "\n",
    "# Calculate expected counts\n",
    "expected_counts = {month: prop * total_observed_counts for month, prop in expected_proportions.items()}\n",
    "expected_counts_df = pd.DataFrame(list(expected_counts.items()), columns=['Month', 'Expected'])\n",
    "\n",
    "# Merge expected counts\n",
    "comparison_df = pd.merge(monthly_additions, expected_counts_df, on='Month')"
   ]
  },
  {
   "cell_type": "code",
   "execution_count": 28,
   "id": "451b0f4c",
   "metadata": {
    "execution": {
     "iopub.execute_input": "2024-05-30T17:29:29.972880Z",
     "iopub.status.busy": "2024-05-30T17:29:29.972528Z",
     "iopub.status.idle": "2024-05-30T17:29:29.986925Z",
     "shell.execute_reply": "2024-05-30T17:29:29.986138Z"
    },
    "papermill": {
     "duration": 0.033455,
     "end_time": "2024-05-30T17:29:29.988769",
     "exception": false,
     "start_time": "2024-05-30T17:29:29.955314",
     "status": "completed"
    },
    "tags": []
   },
   "outputs": [
    {
     "data": {
      "text/html": [
       "<div>\n",
       "<style scoped>\n",
       "    .dataframe tbody tr th:only-of-type {\n",
       "        vertical-align: middle;\n",
       "    }\n",
       "\n",
       "    .dataframe tbody tr th {\n",
       "        vertical-align: top;\n",
       "    }\n",
       "\n",
       "    .dataframe thead th {\n",
       "        text-align: right;\n",
       "    }\n",
       "</style>\n",
       "<table border=\"1\" class=\"dataframe\">\n",
       "  <thead>\n",
       "    <tr style=\"text-align: right;\">\n",
       "      <th></th>\n",
       "      <th>Month</th>\n",
       "      <th>Days</th>\n",
       "      <th>Observed</th>\n",
       "      <th>Expected</th>\n",
       "      <th>Observed Proportion</th>\n",
       "      <th>Expected Proportion</th>\n",
       "    </tr>\n",
       "  </thead>\n",
       "  <tbody>\n",
       "    <tr>\n",
       "      <th>1</th>\n",
       "      <td>January</td>\n",
       "      <td>31</td>\n",
       "      <td>737</td>\n",
       "      <td>746.547945</td>\n",
       "      <td>0.083845</td>\n",
       "      <td>0.084932</td>\n",
       "    </tr>\n",
       "    <tr>\n",
       "      <th>2</th>\n",
       "      <td>February</td>\n",
       "      <td>28</td>\n",
       "      <td>562</td>\n",
       "      <td>674.301370</td>\n",
       "      <td>0.063936</td>\n",
       "      <td>0.076712</td>\n",
       "    </tr>\n",
       "    <tr>\n",
       "      <th>3</th>\n",
       "      <td>March</td>\n",
       "      <td>31</td>\n",
       "      <td>741</td>\n",
       "      <td>746.547945</td>\n",
       "      <td>0.084300</td>\n",
       "      <td>0.084932</td>\n",
       "    </tr>\n",
       "    <tr>\n",
       "      <th>4</th>\n",
       "      <td>April</td>\n",
       "      <td>30</td>\n",
       "      <td>763</td>\n",
       "      <td>722.465753</td>\n",
       "      <td>0.086803</td>\n",
       "      <td>0.082192</td>\n",
       "    </tr>\n",
       "    <tr>\n",
       "      <th>5</th>\n",
       "      <td>May</td>\n",
       "      <td>31</td>\n",
       "      <td>632</td>\n",
       "      <td>746.547945</td>\n",
       "      <td>0.071900</td>\n",
       "      <td>0.084932</td>\n",
       "    </tr>\n",
       "    <tr>\n",
       "      <th>6</th>\n",
       "      <td>June</td>\n",
       "      <td>30</td>\n",
       "      <td>728</td>\n",
       "      <td>722.465753</td>\n",
       "      <td>0.082821</td>\n",
       "      <td>0.082192</td>\n",
       "    </tr>\n",
       "    <tr>\n",
       "      <th>7</th>\n",
       "      <td>July</td>\n",
       "      <td>31</td>\n",
       "      <td>827</td>\n",
       "      <td>746.547945</td>\n",
       "      <td>0.094084</td>\n",
       "      <td>0.084932</td>\n",
       "    </tr>\n",
       "    <tr>\n",
       "      <th>8</th>\n",
       "      <td>August</td>\n",
       "      <td>31</td>\n",
       "      <td>754</td>\n",
       "      <td>746.547945</td>\n",
       "      <td>0.085779</td>\n",
       "      <td>0.084932</td>\n",
       "    </tr>\n",
       "    <tr>\n",
       "      <th>9</th>\n",
       "      <td>September</td>\n",
       "      <td>30</td>\n",
       "      <td>769</td>\n",
       "      <td>722.465753</td>\n",
       "      <td>0.087486</td>\n",
       "      <td>0.082192</td>\n",
       "    </tr>\n",
       "    <tr>\n",
       "      <th>10</th>\n",
       "      <td>October</td>\n",
       "      <td>31</td>\n",
       "      <td>760</td>\n",
       "      <td>746.547945</td>\n",
       "      <td>0.086462</td>\n",
       "      <td>0.084932</td>\n",
       "    </tr>\n",
       "    <tr>\n",
       "      <th>11</th>\n",
       "      <td>November</td>\n",
       "      <td>30</td>\n",
       "      <td>705</td>\n",
       "      <td>722.465753</td>\n",
       "      <td>0.080205</td>\n",
       "      <td>0.082192</td>\n",
       "    </tr>\n",
       "    <tr>\n",
       "      <th>12</th>\n",
       "      <td>December</td>\n",
       "      <td>31</td>\n",
       "      <td>812</td>\n",
       "      <td>746.547945</td>\n",
       "      <td>0.092378</td>\n",
       "      <td>0.084932</td>\n",
       "    </tr>\n",
       "  </tbody>\n",
       "</table>\n",
       "</div>"
      ],
      "text/plain": [
       "        Month  Days  Observed    Expected  Observed Proportion  \\\n",
       "1     January    31       737  746.547945             0.083845   \n",
       "2    February    28       562  674.301370             0.063936   \n",
       "3       March    31       741  746.547945             0.084300   \n",
       "4       April    30       763  722.465753             0.086803   \n",
       "5         May    31       632  746.547945             0.071900   \n",
       "6        June    30       728  722.465753             0.082821   \n",
       "7        July    31       827  746.547945             0.094084   \n",
       "8      August    31       754  746.547945             0.085779   \n",
       "9   September    30       769  722.465753             0.087486   \n",
       "10    October    31       760  746.547945             0.086462   \n",
       "11   November    30       705  722.465753             0.080205   \n",
       "12   December    31       812  746.547945             0.092378   \n",
       "\n",
       "    Expected Proportion  \n",
       "1              0.084932  \n",
       "2              0.076712  \n",
       "3              0.084932  \n",
       "4              0.082192  \n",
       "5              0.084932  \n",
       "6              0.082192  \n",
       "7              0.084932  \n",
       "8              0.084932  \n",
       "9              0.082192  \n",
       "10             0.084932  \n",
       "11             0.082192  \n",
       "12             0.084932  "
      ]
     },
     "execution_count": 28,
     "metadata": {},
     "output_type": "execute_result"
    }
   ],
   "source": [
    "# Resetting indexes to match the month\n",
    "comparison_df.reset_index(drop=True,inplace=True)\n",
    "comparison_df.index = comparison_df.index + 1\n",
    "\n",
    "# Rearrange order of columns\n",
    "comparison_df = comparison_df[['Month', 'Days', 'Observed', 'Expected', 'Observed Proportion', 'Expected Proportion']]\n",
    "\n",
    "comparison_df"
   ]
  },
  {
   "cell_type": "markdown",
   "id": "8ef8875d",
   "metadata": {
    "papermill": {
     "duration": 0.016505,
     "end_time": "2024-05-30T17:29:30.021097",
     "exception": false,
     "start_time": "2024-05-30T17:29:30.004592",
     "status": "completed"
    },
    "tags": []
   },
   "source": [
    "# Perform Chi-Square Test"
   ]
  },
  {
   "cell_type": "code",
   "execution_count": 29,
   "id": "59731a93",
   "metadata": {
    "execution": {
     "iopub.execute_input": "2024-05-30T17:29:30.062710Z",
     "iopub.status.busy": "2024-05-30T17:29:30.062105Z",
     "iopub.status.idle": "2024-05-30T17:29:30.074812Z",
     "shell.execute_reply": "2024-05-30T17:29:30.073440Z"
    },
    "papermill": {
     "duration": 0.036291,
     "end_time": "2024-05-30T17:29:30.077393",
     "exception": false,
     "start_time": "2024-05-30T17:29:30.041102",
     "status": "completed"
    },
    "tags": []
   },
   "outputs": [
    {
     "name": "stdout",
     "output_type": "stream",
     "text": [
      "chi squared: 56.90363289871715\n",
      "p-value: 3.466089131963007e-08\n"
     ]
    }
   ],
   "source": [
    "from scipy.stats import chisquare\n",
    "\n",
    "observed = comparison_df['Observed'].tolist()\n",
    "expected = comparison_df['Expected'].tolist()\n",
    "\n",
    "# Perform chi-square goodness-of-fit test\n",
    "chi2_stat, p_val = chisquare(f_obs=observed, f_exp=expected)\n",
    "print(f'chi squared: {chi2_stat}')\n",
    "print(f'p-value: {p_val}')"
   ]
  },
  {
   "cell_type": "markdown",
   "id": "d2a95bca",
   "metadata": {
    "papermill": {
     "duration": 0.015151,
     "end_time": "2024-05-30T17:29:30.108297",
     "exception": false,
     "start_time": "2024-05-30T17:29:30.093146",
     "status": "completed"
    },
    "tags": []
   },
   "source": [
    "### [Table: Chi-Square Probabilities](https://people.richland.edu/james/lecture/m170/tbl-chi.html)"
   ]
  },
  {
   "cell_type": "markdown",
   "id": "20434d4e",
   "metadata": {
    "papermill": {
     "duration": 0.015399,
     "end_time": "2024-05-30T17:29:30.139099",
     "exception": false,
     "start_time": "2024-05-30T17:29:30.123700",
     "status": "completed"
    },
    "tags": []
   },
   "source": [
    "[![Table: Chi-Square Probabilities](https://i.postimg.cc/VvLfWfkS/Untitled-design-1.jpg)](https://postimg.cc/njgfHt7Z)"
   ]
  },
  {
   "cell_type": "markdown",
   "id": "c51e08a0",
   "metadata": {
    "papermill": {
     "duration": 0.019294,
     "end_time": "2024-05-30T17:29:30.174613",
     "exception": false,
     "start_time": "2024-05-30T17:29:30.155319",
     "status": "completed"
    },
    "tags": []
   },
   "source": [
    "In a chi-squared test, the degrees of freedom are determined by subtracting 1 from the number of categories. Since we're comparing data across 12 months, we have 11 degrees of freedom."
   ]
  },
  {
   "cell_type": "markdown",
   "id": "52ac2fab",
   "metadata": {
    "papermill": {
     "duration": 0.022643,
     "end_time": "2024-05-30T17:29:30.218223",
     "exception": false,
     "start_time": "2024-05-30T17:29:30.195580",
     "status": "completed"
    },
    "tags": []
   },
   "source": [
    "# Results\n",
    "\n",
    "The **chi-square** statistic is **56.90**. This value is significantly higher than the critical value at the 0.05 level of significance, indicating that we can reject the null hypothesis.\n",
    "\n",
    "Additionally, the **p-value** is **3.47 * 10⁻⁸**, which is much less than 0.05. A p-value below 5% indicates strong evidence against the null hypothesis.\n",
    "\n",
    "# Conclusion\n",
    "\n",
    "Based on the chi-square statistic and the p-value, <code style=\"background:yellow;color:black\">we reject the null hypothesis and conclude that there is a significant difference in the number of uploads between months.</code>\n"
   ]
  }
 ],
 "metadata": {
  "kaggle": {
   "accelerator": "none",
   "dataSources": [
    {
     "datasetId": 4769773,
     "sourceId": 8081202,
     "sourceType": "datasetVersion"
    }
   ],
   "dockerImageVersionId": 30698,
   "isGpuEnabled": false,
   "isInternetEnabled": true,
   "language": "python",
   "sourceType": "notebook"
  },
  "kernelspec": {
   "display_name": "Python 3",
   "language": "python",
   "name": "python3"
  },
  "language_info": {
   "codemirror_mode": {
    "name": "ipython",
    "version": 3
   },
   "file_extension": ".py",
   "mimetype": "text/x-python",
   "name": "python",
   "nbconvert_exporter": "python",
   "pygments_lexer": "ipython3",
   "version": "3.10.13"
  },
  "papermill": {
   "default_parameters": {},
   "duration": 9.565397,
   "end_time": "2024-05-30T17:29:30.865905",
   "environment_variables": {},
   "exception": null,
   "input_path": "__notebook__.ipynb",
   "output_path": "__notebook__.ipynb",
   "parameters": {},
   "start_time": "2024-05-30T17:29:21.300508",
   "version": "2.5.0"
  }
 },
 "nbformat": 4,
 "nbformat_minor": 5
}
